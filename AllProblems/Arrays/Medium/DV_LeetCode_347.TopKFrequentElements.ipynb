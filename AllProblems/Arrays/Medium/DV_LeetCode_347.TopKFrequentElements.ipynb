{
 "cells": [
  {
   "cell_type": "markdown",
   "id": "5100dfb7",
   "metadata": {},
   "source": [
    "<h1>347.Top K Frequent Elements</h1>\n",
    "\n",
    "<h3>Problem</h3>\n",
    "\n",
    "<i>Given an integer array nums and an integer k, return the k most frequent elements. You may return the answer in any order.</i>\n",
    "\n",
    "<h3>Examples</h3>\n",
    "\n",
    "<b>Example 1:</b><br>\n",
    "<b>Input:</b> nums = [1,1,1,2,2,3], k = 2<br>\n",
    "<b>Output:</b> [1,2]\n",
    "\n",
    "<b>Example 2:</b><br>\n",
    "<b>Input:</b> nums = [1], k = 1<br>\n",
    "<b>Output:</b> [1]\n",
    "\n",
    "<h3>Constraints</h3>\n",
    "\n",
    "> - 1 <= nums.length <= 105<br>\n",
    "> - -104 <= nums[i] <= 104<br>\n",
    "> - k is in the range [1, the number of unique elements in the array].<br>\n",
    "> - It is guaranteed that the answer is unique."
   ]
  },
  {
   "cell_type": "markdown",
   "id": "3412360d",
   "metadata": {},
   "source": [
    "<h2>Thought Process</h2>\n",
    "\n",
    "<h3>Solution</h3>\n",
    "\n",
    "We solve this problem using a **bucket sort**. We will group all elements by frequency as an index and list occurrences as values to find the most frequent elements.\n",
    "\n",
    "First, we create an empty dictionary to store the element frequencies. We also list empty lists where the length equals the given array 'nums'. We will add 1 to this list iteration to eliminate index 0. Next, we loop through the given 'nums' array and count the frequency of elements. The clever idea of this solution is that the length of 'nums' is the same as the maximum element frequency. For example, if there are five elements in 'nums', a specific element's maximum frequency can occur five times. This is why we get rid of index 0.\n",
    "\n",
    "With a loop, we iterate through the 'nums' array and count the frequencies of elements. If there are none, we will return 0. We also loop through all key-value pairs of 'count' to group the elements by frequency. \n",
    "Finally, we create an empty list to store our results. We reverse loop through 'freq' to find the most frequent element group. Note that we skip over index 0. We loop again within the group and append 'res'. We will return our result if 'res' equals 'k'. If 'res' doesn't match with 'k', the group will return all unique elements sorted by their frequencies.<br>\n",
    "Time: <b>O(n)</b><br>\n",
    "Space:<b>O(n)</b><br>\n",
    "\n",
    "**Example:**<br>\n",
    "nums = [1,1,1,2,2,3]<br>\n",
    "k = 2[<br>\n",
    "count index: 1 | 2 | 3<br>\n",
    "count value: 3 | 2 | 1<br>\n",
    "\n",
    "<h2>Pseudocode</h2>"
   ]
  },
  {
   "cell_type": "code",
   "execution_count": null,
   "id": "bb9147c5",
   "metadata": {},
   "outputs": [],
   "source": [
    "# create empty dictionary to store element frequencies\n",
    "# create empty list of lists where length equals array nums\n",
    "\n",
    "# loop through nums array\n",
    "    # count freqencies of elements in nums or return 0 if none\n",
    "# loop through key-value pairs of count\n",
    "    # group elements by frequency\n",
    "    \n",
    "# create empty list for result\n",
    "# reverse loop through freq excluding index 0\n",
    "    # loop though elements of most frequent list\n",
    "        # add most frequent element to result\n",
    "        # if result = k\n",
    "            # return most frequent element in nums"
   ]
  },
  {
   "cell_type": "markdown",
   "id": "56e511d5",
   "metadata": {},
   "source": [
    "<h2>Code</h2>"
   ]
  },
  {
   "cell_type": "code",
   "execution_count": null,
   "id": "461b113a",
   "metadata": {},
   "outputs": [],
   "source": [
    "# given class and def by LeetCode\n",
    "class Solution(object):\n",
    "    def topKFrequent(self, nums, k):\n",
    "        \"\"\"\n",
    "        :type nums: List[int]\n",
    "        :type k: int\n",
    "        :rtype: List[int]\n",
    "        \"\"\"\n",
    "        # create empty dictionary to store element frequencies\n",
    "        count = {}\n",
    "        # group elements by frequency where index is frequency and value is list of occurences\n",
    "        freq = [[] for i in range(len(nums) + 1)]\n",
    "\n",
    "        # loop through nums array\n",
    "        for n in nums:\n",
    "            # count freqencies of elements in nums or return 0 if none\n",
    "            count[n] = count.get(n, 0) + 1\n",
    "        # loop through key-value pairs of count\n",
    "        for n, c in count.items():\n",
    "            # group elements by frequency\n",
    "            freq[c].append(n)\n",
    "\n",
    "        # create empty list for result\n",
    "        res = []\n",
    "        # reverse loop through freq excluding index 0\n",
    "        for i in reversed(range(1, len(freq))):\n",
    "            # loop though elements of most frequent list\n",
    "            for n in freq[i]:\n",
    "                # add most frequent element to result\n",
    "                res.append(n)\n",
    "                # if result = k\n",
    "                if len(res) == k:\n",
    "                    # return most frequent element in nums\n",
    "                    return res"
   ]
  },
  {
   "cell_type": "markdown",
   "id": "bfecd1ab",
   "metadata": {},
   "source": [
    "<h3>Submission Details</h3>\n",
    "\n",
    "Date: 12-06-2023<br>\n",
    "Profile link: <https://leetcode.com/danielveld/><br>\n",
    "Submission Link: <https://leetcode.com/submissions/detail/969283889/><br>\n",
    "\n",
    "Difficulty: <b>Medium</b><br>\n",
    "Time: <b>O(n)</b><br>\n",
    "Space: <b>O(n)</b><br>\n",
    "\n",
    "Runtime: <b>101 ms</b><br>\n",
    "Memory Usage: <b>20.9 MB</b>"
   ]
  }
 ],
 "metadata": {
  "kernelspec": {
   "display_name": "Python 3 (ipykernel)",
   "language": "python",
   "name": "python3"
  },
  "language_info": {
   "codemirror_mode": {
    "name": "ipython",
    "version": 3
   },
   "file_extension": ".py",
   "mimetype": "text/x-python",
   "name": "python",
   "nbconvert_exporter": "python",
   "pygments_lexer": "ipython3",
   "version": "3.9.12"
  }
 },
 "nbformat": 4,
 "nbformat_minor": 5
}
