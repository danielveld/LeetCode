{
 "cells": [
  {
   "cell_type": "markdown",
   "id": "5100dfb7",
   "metadata": {},
   "source": [
    "<h1>49. Group Anagram</h1>\n",
    "\n",
    "<h3>Problem</h3>\n",
    "\n",
    "<i>Given an array of strings strs, group the anagrams together. You can return the answer in any order.\n",
    "\n",
    "An Anagram is a word or phrase formed by rearranging the letters of a different word or phrase, typically using all the original letters exactly once.</i>\n",
    "\n",
    "<h3>Examples</h3>\n",
    "\n",
    "<b>Example 1:</b><br>\n",
    "<b>Input:</b> [\"eat\",\"tea\",\"tan\",\"ate\",\"nat\",\"bat\"]<br>\n",
    "<b>Output:</b> [[\"bat\"],[\"nat\",\"tan\"],[\"ate\",\"eat\",\"tea\"]]\n",
    "\n",
    "<b>Example 2:</b><br>\n",
    "<b>Input:</b> strs = [\"\"]<br>\n",
    "<b>Output:</b> [[\"\"]]\n",
    "\n",
    "<b>Example 3:</b><br>\n",
    "<b>Input:</b> strs = [\"a\"]<br>\n",
    "<b>Output:</b> [[\"a\"]]\n",
    "\n",
    "\n",
    "<h3>Constraints</h3>\n",
    "\n",
    "> 1 <= strs.length <= 104<br>\n",
    "> 0 <= strs[i].length <= 100<br>\n",
    "> strs[i] consists of lowercase English letters."
   ]
  },
  {
   "cell_type": "markdown",
   "id": "3412360d",
   "metadata": {},
   "source": [
    "<h2>Thought Process</h2>\n",
    "\n",
    "<h3>Solution</h3>\n",
    "\n",
    "In the previous problem sets, we learned about hash mapping. For this problem, we build upon our solution to problem <i>'242. Valid Anagram'</i> to get the most efficient code regarding time and space complexity.\n",
    "\n",
    "First, we create an empty array to store how many times a character occurs in the given array 'strs'. Next, we loop through 'strs' to find the number of occurrences per alphabet letter. With the help of the function 'ord,' we can get the Unicode character. Since all alphabet letters are consecutive in terms of Unicode, we can use a neat trick to initialize the alphabet from 0 to 25 by subtracting the current Unicode character from the Unicode of 'a'. Finally, we convert the 'result' list into a tuple so we can group multiple strings and return the tuple 'result' values.<br>\n",
    "Time: <b>O(mn)</b><br>\n",
    "Space:<b>O(mn)</b><br>\n",
    "<i>here m is the average length of the strings in strs, and n is the number of strings in strs.</i>\n",
    "\n",
    "<h2>Pseudocode</h2>"
   ]
  },
  {
   "cell_type": "code",
   "execution_count": null,
   "id": "bb9147c5",
   "metadata": {},
   "outputs": [],
   "source": [
    "# create dictionary to store character count as keys and strings as values\n",
    "\n",
    "# iterate through strs\n",
    "    # initialize a list of size 26 to represent the count of each character\n",
    "    # iterate through each character in strings\n",
    "        # calculate index of character count using unicode\n",
    "    # store string in result\n",
    "# return grouped strings"
   ]
  },
  {
   "cell_type": "markdown",
   "id": "56e511d5",
   "metadata": {},
   "source": [
    "<h2>Code</h2>"
   ]
  },
  {
   "cell_type": "code",
   "execution_count": 1,
   "id": "f4273f31",
   "metadata": {},
   "outputs": [],
   "source": [
    "# given class and def by LeetCode\n",
    "class Solution(object):\n",
    "    def groupAnagrams(self, strs):\n",
    "        \"\"\"\n",
    "        :type strs: List[str]\n",
    "        :rtype: List[List[str]]\n",
    "        \"\"\"\n",
    "        # map character count to strs\n",
    "        result = defaultdict(list)\n",
    "\n",
    "        # iterate through strings in strs\n",
    "        for s in strs:\n",
    "            # 26 letters in alphabet (a ... z)\n",
    "            count = [0] * 26\n",
    "            # iterate through characters in strings\n",
    "            for c in s:\n",
    "                # find unicode of curent character - 'a' unicode to set to 0-25\n",
    "                count[ord(c) - ord('a')] += 1 # a = 0, b = 1, etc.\n",
    "            # convert list to tuple and store string in result\n",
    "            result[tuple(count)].append(s)\n",
    "        # return only values grouped strings\n",
    "        return result.values()"
   ]
  },
  {
   "cell_type": "markdown",
   "id": "bfecd1ab",
   "metadata": {},
   "source": [
    "<h3>Submission Details</h3>\n",
    "\n",
    "Date: 06-06-2023<br>\n",
    "Profile link: <https://leetcode.com/danielveld/><br>\n",
    "Submission Link: <https://leetcode.com/submissions/detail/965376771/><br>\n",
    "\n",
    "Difficulty: <b>Medium</b><br>\n",
    "Time: <b>O(mn)</b><br>\n",
    "Space: <b>O(mn)</b><br>\n",
    "<i>where m is the average length of the strings in strs, and n is the number of strings in strs.</i>\n",
    "\n",
    "Runtime: <b>94 ms</b><br>\n",
    "Memory Usage: <b>19.6 MB</b>"
   ]
  }
 ],
 "metadata": {
  "kernelspec": {
   "display_name": "Python 3 (ipykernel)",
   "language": "python",
   "name": "python3"
  },
  "language_info": {
   "codemirror_mode": {
    "name": "ipython",
    "version": 3
   },
   "file_extension": ".py",
   "mimetype": "text/x-python",
   "name": "python",
   "nbconvert_exporter": "python",
   "pygments_lexer": "ipython3",
   "version": "3.10.9"
  }
 },
 "nbformat": 4,
 "nbformat_minor": 5
}
