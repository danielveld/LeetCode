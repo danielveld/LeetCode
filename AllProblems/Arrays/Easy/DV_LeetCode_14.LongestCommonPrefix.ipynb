{
 "cells": [
  {
   "cell_type": "markdown",
   "id": "5100dfb7",
   "metadata": {},
   "source": [
    "<h1>14. Longest Common Prefix</h1>\n",
    "\n",
    "<h3>Problem</h3>\n",
    "\n",
    "<i>Write a function to find the longest common prefix string amongst an array of strings. If there is no common prefix, return an empty string \"\".</i>\n",
    "\n",
    "<h3>Examples</h3>\n",
    "\n",
    "<b>Example 1:</b><br>\n",
    "<b>Input:</b> strs = [\"flower\",\"flow\",\"flight\"]<br>\n",
    "<b>Output:</b> \"fl\"\n",
    "\n",
    "<b>Example 2:</b><br>\n",
    "<b>Input:</b> strs = [\"dog\",\"racecar\",\"car\"]<br>\n",
    "<b>Output:</b> \"\"<br>\n",
    "<b>Explanation:</b> There is no common prefix among the input strings.\n",
    "\n",
    "<h3>Constraints</h3>\n",
    "\n",
    "> 1 <= strs.length <= 200<br>\n",
    "> 0 <= strs[i].length <= 200<br>\n",
    "> strs[i] consists of only lowercase English letters."
   ]
  },
  {
   "cell_type": "markdown",
   "id": "3412360d",
   "metadata": {},
   "source": [
    "<h2>Thought Process</h2>\n",
    "\n",
    "<h3>Solution</h3>\n",
    "\n",
    "To solve this problem, we want to find a way to loop through all elements of the first string and compare them to the same index of the other strings. If they match, we store the element in a variable called prefix. If they don't match, we return the prefix that we held so far. If we are out of bounds in the first string, we will also stop iterating since the prefix won't be more extended.<br>\n",
    "Time: <b>O(n*m)</b><br>\n",
    "Space:<b>O(m)</b><br>\n",
    "> <i>where n is the length of the list strs and m is the length of the common prefix.</i>\n",
    "\n",
    "<h2>Pseudocode</h2>"
   ]
  },
  {
   "cell_type": "code",
   "execution_count": null,
   "id": "bb9147c5",
   "metadata": {},
   "outputs": [],
   "source": [
    "# create empty prefix variable\n",
    "\n",
    "# loop through strs first string\n",
    "    # loop through same element for all strings\n",
    "        # if out of bounce or element not equal\n",
    "            # return stored prefix\n",
    "    # add elemnt to prefix var\n",
    "# return stored prefix"
   ]
  },
  {
   "cell_type": "markdown",
   "id": "56e511d5",
   "metadata": {},
   "source": [
    "<h2>Code</h2>"
   ]
  },
  {
   "cell_type": "code",
   "execution_count": 19,
   "id": "f4273f31",
   "metadata": {},
   "outputs": [],
   "source": [
    "# given class and def by LeetCode\n",
    "class Solution(object):\n",
    "    def longestCommonPrefix(self, strs):\n",
    "        \"\"\"\n",
    "        :type strs: List[str]\n",
    "        :rtype: str\n",
    "        \"\"\"\n",
    "        # store common letters in prefix\n",
    "        prefix = ''\n",
    "        \n",
    "        # iterate through elements of first string of strs\n",
    "        for i in range(len(strs[0])):\n",
    "            # iterate though same element for all strings\n",
    "            for s in strs:\n",
    "                # if out of bounce or element not equal\n",
    "                if i == len(s) or s[i] != strs[0][i]:\n",
    "                    # return stored prefix\n",
    "                    return prefix\n",
    "            # add element to prefix var\n",
    "            prefix += strs[0][i]\n",
    "        # return stored prefix\n",
    "        return prefix\n",
    "                "
   ]
  },
  {
   "cell_type": "markdown",
   "id": "d22ae345",
   "metadata": {},
   "source": [
    "<h3>Submission Details</h3>\n",
    "\n",
    "Date: 05-06-2023<br>\n",
    "Profile link: <https://leetcode.com/danielveld/><br>\n",
    "Submission Link: <https://leetcode.com/submissions/detail/964124135/><br>\n",
    "\n",
    "Difficulty: <b>Easy</b><br>\n",
    "Time: <b>O(n*m)</b><br>\n",
    "Space: <b>O(m)</b><br>\n",
    "> <i>where n is the length of the list strs and m is the length of the common prefix.</i>\n",
    "\n",
    "Runtime: <b>11 ms</b><br>\n",
    "Memory Usage: <b>13.7 MB</b>"
   ]
  }
 ],
 "metadata": {
  "kernelspec": {
   "display_name": "Python 3 (ipykernel)",
   "language": "python",
   "name": "python3"
  },
  "language_info": {
   "codemirror_mode": {
    "name": "ipython",
    "version": 3
   },
   "file_extension": ".py",
   "mimetype": "text/x-python",
   "name": "python",
   "nbconvert_exporter": "python",
   "pygments_lexer": "ipython3",
   "version": "3.9.12"
  }
 },
 "nbformat": 4,
 "nbformat_minor": 5
}
