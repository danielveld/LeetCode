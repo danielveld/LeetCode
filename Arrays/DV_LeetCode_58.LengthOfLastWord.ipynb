{
 "cells": [
  {
   "cell_type": "markdown",
   "id": "5100dfb7",
   "metadata": {},
   "source": [
    "<h1>58. Length of Last Word</h1>\n",
    "\n",
    "<h3>Problem</h3>\n",
    "\n",
    "<i>Given a string s consisting of words and spaces, return the length of the last word in the string.\n",
    "\n",
    "A word is a maximal substring consisting of non-space characters only.</i>\n",
    "\n",
    "<h3>Examples</h3>\n",
    "\n",
    "<b>Example 1:</b><br>\n",
    "<b>Input:</b> s = \"Hello World\"<br>\n",
    "<b>Output:</b> 5<br>\n",
    "<b>Explanation:</b> The last word is \"World\" with length 5.\n",
    "\n",
    "<b>Example 2:</b><br>\n",
    "<b>Input:</b> s = \"   fly me   to   the moon  \"<br>\n",
    "<b>Output:</b> 4<br>\n",
    "<b>Explanation:</b> The last word is \"moon\" with length 4.\n",
    "\n",
    "<b>Example 3:</b><br>\n",
    "<b>Input:</b> s = \"luffy is still joyboy\"<br>\n",
    "<b>Output:</b> 6<br>\n",
    "<b>Explanation:</b> The last word is \"joyboy\" with length 6.\n",
    "\n",
    "<h3>Constraints</h3>\n",
    "\n",
    "> 1 <= s.length <= 104<br>\n",
    "> s consists of only English letters and spaces ' '.<br>\n",
    "> There will be at least one word in s.<br>"
   ]
  },
  {
   "cell_type": "markdown",
   "id": "3412360d",
   "metadata": {},
   "source": [
    "<h2>Thought Process</h2>\n",
    "\n",
    "<h3>Solution</h3>\n",
    "\n",
    "This time the problem is quite simple to solve. First, we create a variable to store the length of the last word. Next, we reverse iterate through string 's'. If the current iteration is not equal to a space (' '), we increment the last word length by one. If the current iteration is equivalent to a space, we check if the last word length is larger than one and break out of the loop. Finally, we return the last word length variable to solve this problem.<br>\n",
    "Time: <b>O(n)</b><br>\n",
    "Space:<b>O(1)</b>\n",
    "\n",
    "<h2>Pseudocode</h2>"
   ]
  },
  {
   "cell_type": "code",
   "execution_count": null,
   "id": "bb9147c5",
   "metadata": {},
   "outputs": [],
   "source": [
    "# create variable for length last word\n",
    "\n",
    "# reverse iterate through string s\n",
    "    # if not equal to ' '\n",
    "        # increment word length\n",
    "        # if equal break if length is > 1\n",
    "# return word length\n",
    "        "
   ]
  },
  {
   "cell_type": "markdown",
   "id": "56e511d5",
   "metadata": {},
   "source": [
    "<h2>Code</h2>"
   ]
  },
  {
   "cell_type": "code",
   "execution_count": 10,
   "id": "f4273f31",
   "metadata": {},
   "outputs": [],
   "source": [
    "# given class and def by LeetCode\n",
    "class Solution(object):\n",
    "    def lengthOfLastWord(self, s):\n",
    "        \"\"\"\n",
    "        :type s: str\n",
    "        :rtype: int\n",
    "        \"\"\"\n",
    "        # keep track of last word length\n",
    "        length = 0\n",
    "        \n",
    "        # reverse iterate through s\n",
    "        for i in reversed(range(len(s))):\n",
    "            # if iteration is space\n",
    "            if s[i] != ' ':\n",
    "                # incement word length\n",
    "                length += 1\n",
    "            # exit if iteration is space and length is > 1\n",
    "            elif length > 0:\n",
    "                break\n",
    "        # return length of last word\n",
    "        return length"
   ]
  },
  {
   "cell_type": "markdown",
   "id": "d22ae345",
   "metadata": {},
   "source": [
    "<h3>Submission Details</h3>\n",
    "\n",
    "Date: 03-06-2023<br>\n",
    "Profile link: <https://leetcode.com/danielveld/><br>\n",
    "Submission Link: <https://leetcode.com/submissions/detail/963737695/><br>\n",
    "\n",
    "Difficulty: <b>Easy</b><br>\n",
    "Time: <b>O(n)</b><br>\n",
    "Space: <b>O(1)</b>\n",
    "\n",
    "Runtime: <b>9 ms</b><br>\n",
    "Memory Usage: <b>13.8 MB</b>"
   ]
  }
 ],
 "metadata": {
  "kernelspec": {
   "display_name": "Python 3 (ipykernel)",
   "language": "python",
   "name": "python3"
  },
  "language_info": {
   "codemirror_mode": {
    "name": "ipython",
    "version": 3
   },
   "file_extension": ".py",
   "mimetype": "text/x-python",
   "name": "python",
   "nbconvert_exporter": "python",
   "pygments_lexer": "ipython3",
   "version": "3.9.12"
  }
 },
 "nbformat": 4,
 "nbformat_minor": 5
}
