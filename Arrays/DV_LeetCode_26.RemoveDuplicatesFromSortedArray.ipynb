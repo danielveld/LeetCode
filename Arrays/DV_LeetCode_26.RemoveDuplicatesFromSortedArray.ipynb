{
 "cells": [
  {
   "cell_type": "markdown",
   "id": "5100dfb7",
   "metadata": {},
   "source": [
    "<h1>26. Remove Duplicates from Sorted Array</h1>\n",
    "\n",
    "<h3>Problem</h3>\n",
    "\n",
    "<i><p>Given an integer array nums sorted in non-decreasing order, remove the duplicates in-place such that each unique element appears only once. The relative order of the elements should be kept the same. Then return the number of unique elements in nums.</p>\n",
    "\n",
    "<p>Consider the number of unique elements of nums to be k, to get accepted, you need to do the following things:</p>\n",
    "\n",
    "<p>Change the array nums such that the first k elements of nums contain the unique elements in the order they were present in nums initially. The remaining elements of nums are not important as well as the size of nums.</p>\n",
    "\n",
    "<p>Return k.</p></i>\n",
    "\n",
    "<h3>Custom Judge</h3>\n",
    "\n",
    "The judge will test your solution with the following code:"
   ]
  },
  {
   "cell_type": "code",
   "execution_count": null,
   "id": "9e48e48f",
   "metadata": {},
   "outputs": [],
   "source": [
    "int[] nums = [...]; // Input array\n",
    "int[] expectedNums = [...]; // The expected answer with correct length\n",
    "\n",
    "int k = removeDuplicates(nums); // Calls your implementation\n",
    "\n",
    "assert k == expectedNums.length;\n",
    "for (int i = 0; i < k; i++) {\n",
    "    assert nums[i] == expectedNums[i];\n",
    "}"
   ]
  },
  {
   "cell_type": "markdown",
   "id": "f2fea8c3",
   "metadata": {},
   "source": [
    "If all assertions pass, then your solution will be accepted.<br>\n",
    "\n",
    "<h3>Examples</h3>\n",
    "\n",
    "<b>Example 1:</b><br>\n",
    "<b>Input:</b> nums = [1,1,2]<br>\n",
    "<b>Output:</b> 2, nums = [1,2,_]<br>\n",
    "<b>Explanation:</b> <i>Your function should return k = 2, with the first two elements of nums being 1 and 2 respectively. It does not matter what you leave beyond the returned k (hence they are underscores).</i><br>\n",
    "\n",
    "<b>Example 2:</b><br>\n",
    "<b>Input:</b> nums = [0,0,1,1,1,2,2,3,3,4]<br>\n",
    "<b>Output:</b> 5, nums = [0,1,2,3,4,_,_,_,_,_]<br>\n",
    "<b>Explanation:</b> <i>Your function should return k = 5, with the first five elements of nums being 0, 1, 2, 3, and 4 respectively. It does not matter what you leave beyond the returned k (hence they are underscores).</i><br>\n",
    "\n",
    "<h3>Constraints</h3>\n",
    "\n",
    "> 1 <= nums.length <= 3 * 104<br>\n",
    "> -100 <= nums[i] <= 100<br>\n",
    "> nums is sorted in non-decreasing order."
   ]
  },
  {
   "cell_type": "markdown",
   "id": "3412360d",
   "metadata": {},
   "source": [
    "<h2>Thought Process</h2>\n",
    "\n",
    "<h3>Solution</h3>\n",
    "\n",
    "To solve this problem, we need a left and right pointer. The left pointer starts at the first integer of the array 'nums' and will tell us where we need to put the following unique value. The right pointer will iterate through the array to find unique values.\n",
    "\n",
    "Every time we see a unique value at the right pointer, we move it to the left pointer and increment the left pointer by one. Since the array is sorted, we can compare the right pointer to the neighboring integer to the left of it to determine whether the integer is unique or a duplicate. (right - 1)\n",
    "\n",
    "According to the constraints, a given array is never empty. Therefore we can use the left pointer as our return value.<br>\n",
    "\n",
    "Time: <b>O(n)</b><br>\n",
    "Space:<b>O(1)</b>\n",
    "\n",
    "<h2>Pseudocode</h2>"
   ]
  },
  {
   "cell_type": "code",
   "execution_count": 2,
   "id": "bb9147c5",
   "metadata": {},
   "outputs": [],
   "source": [
    "# create left pointer k and set to 1\n",
    "\n",
    "# set right pointer to 1 and loop through nums array\n",
    "    # compare right to right - 1\n",
    "        # set left to position right\n",
    "        # add 1 to left\n",
    "    # return k"
   ]
  },
  {
   "cell_type": "markdown",
   "id": "56e511d5",
   "metadata": {},
   "source": [
    "<h2>Code</h2>"
   ]
  },
  {
   "cell_type": "code",
   "execution_count": 1,
   "id": "f4273f31",
   "metadata": {},
   "outputs": [],
   "source": [
    "# given class and def by LeetCode\n",
    "class Solution(object):\n",
    "    def removeDuplicates(self, nums):\n",
    "        \"\"\"\n",
    "        :type nums: List[int]\n",
    "        :rtype: int\n",
    "        \"\"\"\n",
    "        # create left pointer k and set to 1\n",
    "        k = 1\n",
    "        \n",
    "        # start right pointer at position 1 and loop through length of nums array\n",
    "        for r in range(1, len(nums)):\n",
    "            # if right is not equal to right - 1\n",
    "            if nums[r] != nums[r-1]:\n",
    "                # set left to position of right\n",
    "                nums[k] = nums[r]\n",
    "                # add 1 to left\n",
    "                k += 1\n",
    "        # return the amount of duplicates\n",
    "        return k"
   ]
  },
  {
   "cell_type": "markdown",
   "id": "d22ae345",
   "metadata": {},
   "source": [
    "<h3>Submission Details</h3>\n",
    "\n",
    "Date: 30-05-2023<br>\n",
    "Profile link: <https://leetcode.com/danielveld/><br>\n",
    "Submission Link: <https://leetcode.com/submissions/detail/960837661/><br>\n",
    "\n",
    "Difficulty: <b>Easy</b><br>\n",
    "Time: <b>O(n)</b><br>\n",
    "Space: <b>O(1)</b>\n",
    "\n",
    "Runtime: <b>81 ms</b><br>\n",
    "Memory Usage: <b>14.6 MB</b>"
   ]
  }
 ],
 "metadata": {
  "kernelspec": {
   "display_name": "Python 3 (ipykernel)",
   "language": "python",
   "name": "python3"
  },
  "language_info": {
   "codemirror_mode": {
    "name": "ipython",
    "version": 3
   },
   "file_extension": ".py",
   "mimetype": "text/x-python",
   "name": "python",
   "nbconvert_exporter": "python",
   "pygments_lexer": "ipython3",
   "version": "3.9.12"
  }
 },
 "nbformat": 4,
 "nbformat_minor": 5
}
