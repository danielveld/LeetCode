{
 "cells": [
  {
   "cell_type": "markdown",
   "id": "5100dfb7",
   "metadata": {},
   "source": [
    "<h1>1929. Concatenation of Array</h1>\n",
    "\n",
    "<h3>Problem</h3>\n",
    "\n",
    "<i>Given an integer array nums of length n, you want to create an array ans of length 2n where ans[i] == nums[i] and ans[i + n] == nums[i] for 0 <= i < n (0-indexed). Specifically, ans is the concatenation of two nums arrays. Return the array ans.</i>\n",
    "\n",
    "\n",
    "<h3>Examples</h3>\n",
    "\n",
    "<b>Example 1:</b><br>\n",
    "<b>Input:</b> nums = [1,2,1]<br>\n",
    "<b>Output:</b> [1,2,1,1,2,1]<br>\n",
    "<b>Explanation:</b> The array ans is formed as follows:<br>\n",
    "ans = [nums[0],nums[1],nums[2],nums[0],nums[1],nums[2]]<br>\n",
    "ans = [1,2,1,1,2,1]\n",
    "\n",
    "<b>Example 2:</b><br>\n",
    "<b>Input:</b> nums = [1,3,2,1]<br>\n",
    "<b>Output:</b> [1,3,2,1,1,3,2,1]<br>\n",
    "<b>Explanation:</b> The array ans is formed as follows:<br>\n",
    "ans = [nums[0],nums[1],nums[2],nums[3],nums[0],nums[1],nums[2],nums[3]]<br>\n",
    "ans = [1,3,2,1,1,3,2,1]</i><br>\n",
    "\n",
    "<h3>Constraints</h3>\n",
    "\n",
    "> n == nums.length<br>\n",
    "> 1 <= n <= 1000<br>\n",
    "> 1 <= nums[i] <= 1000"
   ]
  },
  {
   "cell_type": "markdown",
   "id": "3412360d",
   "metadata": {},
   "source": [
    "<h2>Thought Process</h2>\n",
    "\n",
    "<h3>Solution</h3>\n",
    "\n",
    "Since 'ans' is a concatenation of two 'nums' arrays, we will create a new array, loop twice through 'nums', and use the append function to get 2n 'nums' as the return value.<br>\n",
    "Time: <b>O(n)</b><br>\n",
    "Space:<b>O(n)</b>\n",
    "\n",
    "<h2>Pseudocode</h2>"
   ]
  },
  {
   "cell_type": "code",
   "execution_count": null,
   "id": "bb9147c5",
   "metadata": {},
   "outputs": [],
   "source": [
    "# create empty array ans\n",
    "\n",
    "# loop twice\n",
    "    # loop through nums\n",
    "        # add iteration to new array\n",
    "    # return new array"
   ]
  },
  {
   "cell_type": "markdown",
   "id": "56e511d5",
   "metadata": {},
   "source": [
    "<h2>Code</h2>"
   ]
  },
  {
   "cell_type": "code",
   "execution_count": 1,
   "id": "f4273f31",
   "metadata": {},
   "outputs": [],
   "source": [
    "# given class and def by LeetCode\n",
    "class Solution(object):\n",
    "    def getConcatenation(self, nums):\n",
    "        \"\"\"\n",
    "        :type nums: List[int]\n",
    "        :rtype: List[int]\n",
    "        \"\"\"\n",
    "        # create empty array\n",
    "        ans = []\n",
    "\n",
    "        # loop twice for length 2n\n",
    "        for n in range(2):\n",
    "            # loop through nums\n",
    "            for n in nums:\n",
    "                # add iteration to new array\n",
    "                ans.append(n)\n",
    "        # return new array\n",
    "        return ans"
   ]
  },
  {
   "cell_type": "markdown",
   "id": "d22ae345",
   "metadata": {},
   "source": [
    "<h3>Submission Details</h3>\n",
    "\n",
    "Date: 01-06-2023<br>\n",
    "Profile link: <https://leetcode.com/danielveld/><br>\n",
    "Submission Link: <https://leetcode.com/submissions/detail/961376129/><br>\n",
    "\n",
    "Difficulty: <b>Easy</b><br>\n",
    "Time: <b>O(n)</b><br>\n",
    "Space: <b>O(n)</b>\n",
    "\n",
    "Runtime: <b>75 ms</b><br>\n",
    "Memory Usage: <b>13.7 MB</b>"
   ]
  },
  {
   "cell_type": "markdown",
   "id": "9f93399c",
   "metadata": {},
   "source": [
    "<h2>Reflection</h2>\n",
    "\n",
    "After submitting the code, I learned Python has a built-in concat function. This means that the code can be shorter by returning nums*2. While this doesn't affect the time or difficulty in terms of big O, it is shorter in lines and easier to read:"
   ]
  },
  {
   "cell_type": "code",
   "execution_count": null,
   "id": "f92b0da7",
   "metadata": {},
   "outputs": [],
   "source": [
    "# given class and def by LeetCode\n",
    "class Solution(object):\n",
    "    def removeElement(self, nums, val):\n",
    "        \"\"\"\n",
    "        :type nums: List[int]\n",
    "        :type val: int\n",
    "        :rtype: int\n",
    "        \"\"\"\n",
    "        # create empty array\n",
    "        return nums*2"
   ]
  },
  {
   "cell_type": "markdown",
   "id": "f69e8a95",
   "metadata": {},
   "source": [
    "Runtime: <b>66 ms</b><br>\n",
    "Memory Usage: <b>13.5 MB</b><br>"
   ]
  }
 ],
 "metadata": {
  "kernelspec": {
   "display_name": "Python 3 (ipykernel)",
   "language": "python",
   "name": "python3"
  },
  "language_info": {
   "codemirror_mode": {
    "name": "ipython",
    "version": 3
   },
   "file_extension": ".py",
   "mimetype": "text/x-python",
   "name": "python",
   "nbconvert_exporter": "python",
   "pygments_lexer": "ipython3",
   "version": "3.9.12"
  }
 },
 "nbformat": 4,
 "nbformat_minor": 5
}
