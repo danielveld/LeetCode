{
 "cells": [
  {
   "cell_type": "markdown",
   "id": "5100dfb7",
   "metadata": {},
   "source": [
    "<h1>1. Two Sum</h1>\n",
    "\n",
    "<h3>Problem</h3>\n",
    "\n",
    "<i>Given an array of integers nums and an integer target, return indices of the two numbers such that they add up to target.\n",
    "\n",
    "You may assume that each input would have exactly one solution, and you may not use the same element twice.\n",
    "\n",
    "You can return the answer in any order.</i>\n",
    "\n",
    "<h3>Examples</h3>\n",
    "\n",
    "<b>Example 1:</b><br>\n",
    "<b>Input:</b> nums = [2,7,11,15], target = 9<br>\n",
    "<b>Output:</b> [0,1]<br>\n",
    "<b>Explanation:</b> Because nums[0] + nums[1] == 9, we return [0, 1].\n",
    "\n",
    "<b>Example 2:</b><br>\n",
    "<b>Input:</b> nums = [3,2,4], target = 6<br>\n",
    "<b>Output:</b> [1,2]\n",
    "\n",
    "<b>Example 3</b><br>\n",
    "<b>Input:</b> nums = [3,3], target = 6<br>\n",
    "<b>Output:</b> [0,1]\n",
    "\n",
    "<h3>Constraints</h3>\n",
    "\n",
    "> 2 <= nums.length <= 104<br>\n",
    "> -109 <= nums[i] <= 109<br>\n",
    "> -109 <= target <= 109<br>\n",
    "> Only one valid answer exists.\n",
    "\n",
    "<h3>Follow Up</h3>\n",
    "Can you come up with an algorithm that is less than O(n^2) time complexity?"
   ]
  },
  {
   "cell_type": "markdown",
   "id": "3412360d",
   "metadata": {},
   "source": [
    "<h2>Thought Process</h2>\n",
    "\n",
    "<h3>Solution 1</h3>\n",
    "\n",
    "To understand the problem correctly, I conceptualize how brute force works in this case. We begin by iterating through the array and adding all other elements to the current iteration to find the target. If, for example, array 'nums' is [2,7,11,15], we add all numbers one by one to 2 (index 0) to find the target. Then we will move on to 7 and repeat the same process of adding all numbers one by one to find the target and so on. \n",
    "\n",
    "By understanding this concept, we can improve upon it by iterating through the array and finding a way to know the second number to get the target value without adding all other numbers one by one to the current iteration.<br>\n",
    "Time: <b>O(n^2)</b><br>\n",
    "Space:<b>O(1)</b>\n",
    "\n",
    "<h3>Solution 2</h3>\n",
    "\n",
    "To improve on time complexity, we will create an empty hashmap. Next, we loop through array 'nums' and keep track of the number of iterations with the help of the function 'enumerate'. Then, we calculate the difference between the target and the current iteration for every iteration to determine the second number. If the calculated second number is in our hashmap, we return the number pair that adds to the target. If the second number is not in the hashmap, we add the first number to our hashmap with the index. Eventually, the program will calculate a second number already in our hashmap as the first number, and we found our solution!<br>\n",
    "Time: <b>O(n)</b><br>\n",
    "Space:<b>O(n)</b>\n",
    "\n",
    "<h3>Pseudocode</h3>"
   ]
  },
  {
   "cell_type": "code",
   "execution_count": null,
   "id": "bb9147c5",
   "metadata": {},
   "outputs": [],
   "source": [
    "# create empty hashmap\n",
    "\n",
    "# loop through nums and enumerate\n",
    "    # store difference target - first number\n",
    "    \n",
    "    # if diff is found\n",
    "        # return solution\n",
    "    # add to hashmap (val:index)"
   ]
  },
  {
   "cell_type": "markdown",
   "id": "56e511d5",
   "metadata": {},
   "source": [
    "<h2>Code</h2>"
   ]
  },
  {
   "cell_type": "code",
   "execution_count": 19,
   "id": "f4273f31",
   "metadata": {},
   "outputs": [],
   "source": [
    "# given class and def by LeetCode\n",
    "class Solution(object):\n",
    "    def twoSum(self, nums, target):\n",
    "        \"\"\"\n",
    "        :type nums: List[int]\n",
    "        :type target: int\n",
    "        :rtype: List[int]\n",
    "        \"\"\"\n",
    "        # create empty hashmap to store val : index\n",
    "        hashmap = {} \n",
    "        \n",
    "        # loop through nums and keep track of number of iterations\n",
    "        for i, n in enumerate(nums):\n",
    "            # target - first number = second number\n",
    "            diff = target - n\n",
    "            \n",
    "            # if diff in hashmap pair is found\n",
    "            if diff in hashmap:\n",
    "                # return two numbers that add to target\n",
    "                return [hashmap[diff], i]\n",
    "            # if not in hashmap store val:index\n",
    "            hashmap[n] = i\n",
    "        # we don't need a return here since there is always a solution and we return when a pair is found "
   ]
  },
  {
   "cell_type": "markdown",
   "id": "d22ae345",
   "metadata": {},
   "source": [
    "<h3>Submission Details</h3>\n",
    "\n",
    "Date: 04-06-2023<br>\n",
    "Profile link: <https://leetcode.com/danielveld/><br>\n",
    "Submission Link: <https://leetcode.com/submissions/detail/963903222/><br>\n",
    "\n",
    "Difficulty: <b>Easy</b><br>\n",
    "Time: <b>O(n)</b><br>\n",
    "Space: <b>O(n)</b>\n",
    "\n",
    "Runtime: <b>42 ms</b><br>\n",
    "Memory Usage: <b>14.2 MB</b>"
   ]
  }
 ],
 "metadata": {
  "kernelspec": {
   "display_name": "Python 3 (ipykernel)",
   "language": "python",
   "name": "python3"
  },
  "language_info": {
   "codemirror_mode": {
    "name": "ipython",
    "version": 3
   },
   "file_extension": ".py",
   "mimetype": "text/x-python",
   "name": "python",
   "nbconvert_exporter": "python",
   "pygments_lexer": "ipython3",
   "version": "3.9.12"
  }
 },
 "nbformat": 4,
 "nbformat_minor": 5
}
