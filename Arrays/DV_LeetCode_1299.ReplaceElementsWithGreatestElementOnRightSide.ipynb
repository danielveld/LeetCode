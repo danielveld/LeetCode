{
 "cells": [
  {
   "cell_type": "markdown",
   "id": "5100dfb7",
   "metadata": {},
   "source": [
    "<h1>1299. Replace Elements with Greatest Element on Right Side</h1>\n",
    "\n",
    "<h3>Problem</h3>\n",
    "\n",
    "<i>Given an array arr, replace every element in that array with the greatest element among the elements to its right, and replace the last element with -1. After doing so, return the array.</i>\n",
    "\n",
    "<h3>Examples</h3>\n",
    "\n",
    "<b>Example 1:</b><br>\n",
    "<b>Input:</b> arr = [17,18,5,4,6,1]<br>\n",
    "<b>Output:</b> [18,6,6,6,1,-1]<br>\n",
    "<b>Explanation:</b>\n",
    "- index 0 --> the greatest element to the right of index 0 is index 1 (18).\n",
    "- index 1 --> the greatest element to the right of index 1 is index 4 (6).\n",
    "- index 2 --> the greatest element to the right of index 2 is index 4 (6).\n",
    "- index 3 --> the greatest element to the right of index 3 is index 4 (6).\n",
    "- index 4 --> the greatest element to the right of index 4 is index 5 (1).\n",
    "- index 5 --> there are no elements to the right of index 5, so we put -1.\n",
    "\n",
    "<b>Example 2:</b><br>\n",
    "<b>Input:</b> arr = [400]<br>\n",
    "<b>Output:</b> [-1]<br>\n",
    "<b>Explanation:</b> There are no elements to the right of index 0.\n",
    "\n",
    "<h3>Constraints</h3>\n",
    "\n",
    "> 1 <= arr.length <= 104<br>\n",
    "> 1 <= arr[i] <= 105"
   ]
  },
  {
   "cell_type": "markdown",
   "id": "3412360d",
   "metadata": {},
   "source": [
    "<h2>Thought Process</h2>\n",
    "\n",
    "<h3>Solution 1</h3>\n",
    "\n",
    "The first solution that comes to mind is brute force. First, we compare index 0 with the other array 'arr' elements. Then, we will move on to the following index and compare it to all other elements to the right until we reach the end of 'arr' and place '-1' at the end. In every iteration, we store the highest number in a new array. Of course, there are better solutions than this, but it helps us understand the problem we are trying to solve.<br>\n",
    "Time: <b>O(n^2)</b><br>\n",
    "Space:<b>O(n^2)</b>\n",
    "\n",
    "<h3>Solution 2</h3>\n",
    "\n",
    "We can use the 'max' function in Python to improve our first solution regarding space complexity. First, we will use a loop to iterate through the array 'arr'. Index 0 of our newly created array will equal the max of all other elements in 'arr'. Then, we will move on to the following index and equal it to the maximum of all other elements until we reach the second-to-last element. If we iterate through all elements, the 'max' function will hit the array's end, resulting in a ValueError. Finally, we append the 'greatest' array with -1 at the end after the loop, as stated in the problem description.<br>\n",
    "Time: <b>O(n^2)</b><br>\n",
    "Space:<b>O(n)</b>\n",
    "\n",
    "Example:"
   ]
  },
  {
   "cell_type": "code",
   "execution_count": 16,
   "id": "cf57fe67",
   "metadata": {},
   "outputs": [
    {
     "name": "stdout",
     "output_type": "stream",
     "text": [
      "[18, 6, 6, 6, 1, -1]\n"
     ]
    }
   ],
   "source": [
    "# given array arr\n",
    "arr = [17,18,5,4,6,1]\n",
    "# new array to store greatest values\n",
    "greatest = []\n",
    "\n",
    "# loop through arr till second-to-last element\n",
    "for i in range(len(arr) - 1):\n",
    "    # store max value in greatest\n",
    "    greatest.append(max(arr[i + 1:]))\n",
    "\n",
    "# set last element of greatest to -1\n",
    "greatest.append(-1)\n",
    "\n",
    "# print our result for demonstration purposes\n",
    "print(greatest)"
   ]
  },
  {
   "cell_type": "markdown",
   "id": "2544a2be",
   "metadata": {},
   "source": [
    "<h3>Solution 3</h3>\n",
    "\n",
    "We now want to find a way to improve the time complexity. In our previous solution, the max function and loop both take O(n) of time, resulting in the time complexity of O(n^2). We can improve by reversing the iteration. This way, we don't have to loop through all elements to find the max constantly. Instead, we compare a right pointer to what is left of it. I also noticed that we don't have to make a new array. Instead, we can return the modified version of 'arr'.<br>\n",
    "Time: <b>O(n)</b><br>\n",
    "Space:<b>O(1)</b>\n",
    "\n",
    "<h2>Pseudocode</h2>"
   ]
  },
  {
   "cell_type": "code",
   "execution_count": null,
   "id": "bb9147c5",
   "metadata": {},
   "outputs": [],
   "source": [
    "# set intial max = -1 and use as right pointer\n",
    "\n",
    "# loop through array arr in reverse order\n",
    "    # new max = max(old max, current iteration)\n",
    "        "
   ]
  },
  {
   "cell_type": "markdown",
   "id": "56e511d5",
   "metadata": {},
   "source": [
    "<h2>Code</h2>"
   ]
  },
  {
   "cell_type": "code",
   "execution_count": 19,
   "id": "f4273f31",
   "metadata": {},
   "outputs": [],
   "source": [
    "# given class and def by LeetCode\n",
    "class Solution(object):\n",
    "    def replaceElements(self, arr):\n",
    "        \"\"\"\n",
    "        :type arr: List[int]\n",
    "        :rtype: List[int]\n",
    "        \"\"\"\n",
    "        # create right pointer for max value\n",
    "        right_max = -1\n",
    "        \n",
    "        # loop through array arr in reverse order\n",
    "        for i in reversed(range(len(arr))):\n",
    "            # new_max = max(old max, current iteration)\n",
    "            new_max = max(right_max, arr[i])\n",
    "            # overwrite right_max with current iteration\n",
    "            arr[i] = right_max\n",
    "            # set right max to new max\n",
    "            right_max = new_max\n",
    "        # return the modified array\n",
    "        return arr"
   ]
  },
  {
   "cell_type": "markdown",
   "id": "d22ae345",
   "metadata": {},
   "source": [
    "<h3>Submission Details</h3>\n",
    "\n",
    "Date: 02-06-2023<br>\n",
    "Profile link: <https://leetcode.com/danielveld/><br>\n",
    "Submission Link: <https://leetcode.com/submissions/detail/962224971/><br>\n",
    "\n",
    "Difficulty: <b>Easy</b><br>\n",
    "Time: <b>O(n)</b><br>\n",
    "Space: <b>O(1)</b>\n",
    "\n",
    "Runtime: <b>673 ms</b><br>\n",
    "Memory Usage: <b>14.9 MB</b>"
   ]
  }
 ],
 "metadata": {
  "kernelspec": {
   "display_name": "Python 3 (ipykernel)",
   "language": "python",
   "name": "python3"
  },
  "language_info": {
   "codemirror_mode": {
    "name": "ipython",
    "version": 3
   },
   "file_extension": ".py",
   "mimetype": "text/x-python",
   "name": "python",
   "nbconvert_exporter": "python",
   "pygments_lexer": "ipython3",
   "version": "3.9.12"
  }
 },
 "nbformat": 4,
 "nbformat_minor": 5
}
