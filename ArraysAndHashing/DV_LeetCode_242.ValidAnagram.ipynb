{
 "cells": [
  {
   "cell_type": "markdown",
   "id": "5100dfb7",
   "metadata": {},
   "source": [
    "<h1>242. Valid Anagram</h1>\n",
    "\n",
    "<h3>Problem</h3>\n",
    "\n",
    "<i>Given two strings s and t, return true if t is an anagram of s, and false otherwise.\n",
    "\n",
    "An Anagram is a word or phrase formed by rearranging the letters of a different word or phrase, typically using all the original letters exactly once.</i>\n",
    "\n",
    "<h3>Examples</h3>\n",
    "\n",
    "<b>Example 1:</b><br>\n",
    "<b>Input:</b> s = \"anagram\", t = \"nagaram\"<br>\n",
    "<b>Output:</b> true\n",
    "\n",
    "<b>Example 2:</b><br>\n",
    "<b>Input:</b> s = \"rat\", t = \"car\"<br>\n",
    "<b>Output:</b> false\n",
    "\n",
    "<h3>Constraints</h3>\n",
    "\n",
    "> 1 <= s.length, t.length <= 5 * 104\n",
    "> s and t consist of lowercase English letters.\n",
    "\n",
    "<h3>Follow Up</h3>\n",
    "What if the inputs contain Unicode characters? How would you adapt your solution to such a case?"
   ]
  },
  {
   "cell_type": "markdown",
   "id": "3412360d",
   "metadata": {},
   "source": [
    "<h2>Thought Process</h2>\n",
    "\n",
    "<h3>Cheat Code</h3>\n",
    "There is a way to cheese this problem by using the built-in counter function from Python. With one line of code, we can return 'True' if 'counter(s)' equals 'counter(t)'. I will not use this function since the exercise is to write the code for ourselves. However, for demonstration purposes, see the counter function in action below:"
   ]
  },
  {
   "cell_type": "code",
   "execution_count": null,
   "id": "6b634eab",
   "metadata": {},
   "outputs": [],
   "source": [
    "# given class and def by LeetCode\n",
    "class Solution(object):\n",
    "    def isAnagram(self, s, t):\n",
    "        \"\"\"\n",
    "        :type s: str\n",
    "        :type t: str\n",
    "        :rtype: bool\n",
    "        \"\"\"\n",
    "        # return True if string 's' is equal to string 't'\n",
    "        return counter(s) == counter(t)"
   ]
  },
  {
   "cell_type": "markdown",
   "id": "b6b885bd",
   "metadata": {},
   "source": [
    "<h3>Solution</h3>\n",
    "\n",
    "To solve this problem, we need to find a way to compare the letters in string 's' to the letters in string 't'. If all letters in 's' appear precisely once in 't' and the length is the same, the return will be 'True'.\n",
    "\n",
    "First, we will compare the length of 's' to 't'. We will immediately return 'False' if the length is not equal. Next, we will create two count arrays that keep track of the number of occurrences of all letters in the string 's' using a HashMap. Finally, we will loop the letter count of both strings and return 'True' if they match.<br>\n",
    "Time: <b>O(s+t)</b><br>\n",
    "Space:<b>O(s+t)</b><br>\n",
    "<i>Calling the complexion O(s+t) would be more accurate than simply stating O(n).</i>\n",
    "\n",
    "<b>Note:</b><i> If an iteration of count does not occur on both 'count_s' and 'count_t', we will get a KeyError by incrementing 1 + the count variable. I found a way to prevent these errors using the 'get' function, which sets the default value to 0.</i>\n",
    "\n",
    "<h3>Answering the Follow Up Question</h3>\n",
    "\n",
    "Since we use a hashmap, we count the number of occurrences of characters. Therefore, we need not alter the code to accept Unicode characters. \n",
    "\n",
    "<h2>Pseudocode</h2>"
   ]
  },
  {
   "cell_type": "code",
   "execution_count": null,
   "id": "bb9147c5",
   "metadata": {},
   "outputs": [],
   "source": [
    "# compare s and t\n",
    "\n",
    "# create count arrays\n",
    "\n",
    "# loop through length of s\n",
    "    # create hashmap, count number of occurences per letter\n",
    "    \n",
    "# compare both strings\n",
    "\n",
    "# return if s and t are equal"
   ]
  },
  {
   "cell_type": "markdown",
   "id": "56e511d5",
   "metadata": {},
   "source": [
    "<h2>Code</h2>"
   ]
  },
  {
   "cell_type": "code",
   "execution_count": 11,
   "id": "f4273f31",
   "metadata": {},
   "outputs": [],
   "source": [
    "# given class and def by LeetCode\n",
    "class Solution(object):\n",
    "    def isAnagram(self, s, t):\n",
    "        \"\"\"\n",
    "        :type s: str\n",
    "        :type t: str\n",
    "        :rtype: bool\n",
    "        \"\"\"\n",
    "        # compare length of both strings since an anagram is equal\n",
    "        if len(s) != len(t):\n",
    "            return False\n",
    "        \n",
    "        # create two empty arrays for counting\n",
    "        count_s, count_t = {}, {}\n",
    "        \n",
    "        # create hashmap, count number of occurences per letter\n",
    "        for i in range(len(s)):\n",
    "            # we use get function to catch key errors\n",
    "            count_s[s[i]] = 1 + count_s.get(s[i], 0)\n",
    "            count_t[t[i]] = 1 + count_s.get(t[i], 0)\n",
    "        \n",
    "        # loop to compare the letter count of both strings\n",
    "        for c in count_s:\n",
    "            if count_s[c] != count_t.get(c, 0):\n",
    "                return False\n",
    "        \n",
    "        # return if s and t are equal\n",
    "        return True"
   ]
  },
  {
   "cell_type": "markdown",
   "id": "bfecd1ab",
   "metadata": {},
   "source": [
    "<h3>Submission Details</h3>\n",
    "\n",
    "Date: 01-06-2023<br>\n",
    "Profile link: <https://leetcode.com/danielveld/><br>\n",
    "Submission Link: <https://leetcode.com/submissions/detail/961451200/><br>\n",
    "\n",
    "Difficulty: <b>Easy</b><br>\n",
    "Time: <b>O(s+t)</b><br>\n",
    "Space: <b>O(s+t)</b>\n",
    "\n",
    "Runtime: <b>48 ms</b><br>\n",
    "Memory Usage: <b>15.3 MB</b>"
   ]
  },
  {
   "cell_type": "markdown",
   "id": "2f0886dd",
   "metadata": {},
   "source": [
    "<h2>Reflection</h2>\n",
    "\n",
    "Later, I noticed we could use sorting to improve the big O of space from O(s+t) to O(1). Since an anagram is always the same length and contains the same characters, we can sort both strings and compare. While this improves space, the big O of space heavily depends on which function or built-in function you use. So space's big O will be O(n) or O(1). I have not used this sorting method because the big O of time will increase to 0(nlogn).\n",
    "\n",
    "See example below:"
   ]
  },
  {
   "cell_type": "code",
   "execution_count": null,
   "id": "5b701178",
   "metadata": {},
   "outputs": [],
   "source": [
    "# given class and def by LeetCode\n",
    "class Solution(object):\n",
    "    def isAnagram(self, s, t):\n",
    "        \"\"\"\n",
    "        :type s: str\n",
    "        :type t: str\n",
    "        :rtype: bool\n",
    "        \"\"\"\n",
    "        # sort both strings and compare, return True if anagram\n",
    "        return sorted(s) == sorted(t)"
   ]
  },
  {
   "cell_type": "markdown",
   "id": "cb90c22a",
   "metadata": {},
   "source": [
    "<h3>Dictionary Solution</h3>\n",
    "When looking at solutions that other people submitted, I stumbled across a dictionary solution that looked similar but piqued my interest. \n",
    "\n",
    "First, we create an empty array. When we loop through string 's', we set the iteration to one if the character is not in the dictionary. If the character is in the dictionary, we add one. Next, we loop through string 't' and return False if a new character is not in the created dictionary 'dic'. If a character is in the dictionary, we subtract it by one. This means that if the result of 'val' is 0, we will return 'True'.\n",
    "\n",
    "Example:"
   ]
  },
  {
   "cell_type": "code",
   "execution_count": null,
   "id": "76865105",
   "metadata": {},
   "outputs": [],
   "source": [
    "# given class and def by LeetCode\n",
    "def isAnagram(self, s, t):\n",
    "        \"\"\"\n",
    "        :type s: str\n",
    "        :type t: str\n",
    "        :rtype: bool\n",
    "        \"\"\"\n",
    "        # create empty dictionary\n",
    "        dic = {}\n",
    "        \n",
    "        # loop through string s\n",
    "        for i in s:\n",
    "            # if character is not in dic set to 1\n",
    "            if i not in dic:\n",
    "                dic[i] = 1\n",
    "            # if character is in dic add 1\n",
    "            else:\n",
    "                dic[i] += 1\n",
    "        \n",
    "        # loop through string t\n",
    "        for j in t:\n",
    "            # if character is not in dic return False (no anagram)\n",
    "            if j not in dic:\n",
    "                return False\n",
    "            #substract 1 if character is in dic\n",
    "            else:\n",
    "                dic[j] -= 1\n",
    "        \n",
    "        # check if counted val is back to 0\n",
    "        for val in dic.values():\n",
    "            if val != 0:\n",
    "                return False\n",
    "        \n",
    "        # return if s and t are equal\n",
    "        return True"
   ]
  }
 ],
 "metadata": {
  "kernelspec": {
   "display_name": "Python 3 (ipykernel)",
   "language": "python",
   "name": "python3"
  },
  "language_info": {
   "codemirror_mode": {
    "name": "ipython",
    "version": 3
   },
   "file_extension": ".py",
   "mimetype": "text/x-python",
   "name": "python",
   "nbconvert_exporter": "python",
   "pygments_lexer": "ipython3",
   "version": "3.10.9"
  }
 },
 "nbformat": 4,
 "nbformat_minor": 5
}
