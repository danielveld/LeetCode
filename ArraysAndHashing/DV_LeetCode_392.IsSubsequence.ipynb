{
 "cells": [
  {
   "cell_type": "markdown",
   "id": "5100dfb7",
   "metadata": {},
   "source": [
    "<h1>392. Is Subsequence</h1>\n",
    "\n",
    "<h3>Problem</h3>\n",
    "\n",
    "<i>Given two strings s and t, return true if s is a subsequence of t, or false otherwise.\n",
    "\n",
    "A subsequence of a string is a new string that is formed from the original string by deleting some (can be none) of the characters without disturbing the relative positions of the remaining characters. (i.e., \"ace\" is a subsequence of \"abcde\" while \"aec\" is not).</i>\n",
    "\n",
    "<h3>Examples</h3>\n",
    "\n",
    "<b>Example 1:</b><br>\n",
    "<b>Input:</b> s = \"abc\", t = \"ahbgdc\"<br>\n",
    "<b>Output:</b> true\n",
    "\n",
    "<b>Example 2:</b><br>\n",
    "<b>Input:</b> s = \"axc\", t = \"ahbgdc\"<br>\n",
    "<b>Output:</b> false<br>\n",
    "\n",
    "<h3>Constraints</h3>\n",
    "\n",
    "> 0 <= s.length <= 100<br>\n",
    "> 0 <= t.length <= 104<br>\n",
    "> s and t consist only of lowercase English letters.\n",
    "\n",
    "<h3>Follow Up</h3>\n",
    "Suppose there are lots of incoming s, say s1, s2, ..., sk where k >= 109, and you want to check one by one to see if t has its subsequence. In this scenario, how would you change your code?"
   ]
  },
  {
   "cell_type": "markdown",
   "id": "3412360d",
   "metadata": {},
   "source": [
    "<h2>Thought Process</h2>\n",
    "\n",
    "<h3>Solution</h3>\n",
    "\n",
    "To solve this problem, we need to write code that finds all characters from string 's' in string 't' in the same order. Therefore we will use two pointers and call them 'i' and 'j'. We set 'i' to index 0 of string 's' and 'j' to index 0 of string 't'. If both are equal, we increment the pointer 'i' by one. We always increment the pointer 'j' by one. Once out of bounce, we compare 'i' to 's' to check if 't' is a subsequence of 's'.<br>\n",
    "Time: <b>O(s+t)</b><br>\n",
    "Space:<b>O(1)</b>\n",
    "\n",
    "<h3>Pseudocode</h3>"
   ]
  },
  {
   "cell_type": "code",
   "execution_count": null,
   "id": "bb9147c5",
   "metadata": {},
   "outputs": [],
   "source": [
    "# initalize two pointers\n",
    "\n",
    "# while pointers in bounce\n",
    "    # if equal\n",
    "        # increment index i by one\n",
    "    # increment index j by one\n",
    "\n",
    "# compare length i to s\n",
    "        "
   ]
  },
  {
   "cell_type": "markdown",
   "id": "56e511d5",
   "metadata": {},
   "source": [
    "<h2>Code</h2>"
   ]
  },
  {
   "cell_type": "code",
   "execution_count": 1,
   "id": "f4273f31",
   "metadata": {},
   "outputs": [],
   "source": [
    "# given class and def by LeetCode\n",
    "class Solution(object):\n",
    "    def isSubsequence(self, s, t):\n",
    "        \"\"\"\n",
    "        :type s: str\n",
    "        :type t: str\n",
    "        :rtype: bool\n",
    "        \"\"\"\n",
    "        # set pointers to index 0\n",
    "        i, j = 0, 0\n",
    "        \n",
    "        # while pointers are in bounce\n",
    "        while i < len(s) and j < len(t):\n",
    "            # if pointers are equal\n",
    "            if s[i] == t[j]:\n",
    "                # increment index of i\n",
    "                i += 1\n",
    "            # always increment index of j\n",
    "            j += 1\n",
    "        \n",
    "        # compare length of i to s\n",
    "        return True if i == len(s) else False"
   ]
  },
  {
   "cell_type": "markdown",
   "id": "d22ae345",
   "metadata": {},
   "source": [
    "<h3>Submission Details</h3>\n",
    "\n",
    "Date: 03-06-2023<br>\n",
    "Profile link: <https://leetcode.com/danielveld/><br>\n",
    "Submission Link: <https://leetcode.com/submissions/detail/962859148/><br>\n",
    "\n",
    "Difficulty: <b>Easy</b><br>\n",
    "Time: <b>O(s+t)</b><br>\n",
    "Space: <b>O(1)</b>\n",
    "\n",
    "Runtime: <b>16 ms</b><br>\n",
    "Memory Usage: <b>13.5 MB</b>"
   ]
  }
 ],
 "metadata": {
  "kernelspec": {
   "display_name": "Python 3 (ipykernel)",
   "language": "python",
   "name": "python3"
  },
  "language_info": {
   "codemirror_mode": {
    "name": "ipython",
    "version": 3
   },
   "file_extension": ".py",
   "mimetype": "text/x-python",
   "name": "python",
   "nbconvert_exporter": "python",
   "pygments_lexer": "ipython3",
   "version": "3.9.12"
  }
 },
 "nbformat": 4,
 "nbformat_minor": 5
}
