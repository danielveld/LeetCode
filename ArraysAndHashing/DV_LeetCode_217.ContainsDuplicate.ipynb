{
 "cells": [
  {
   "cell_type": "markdown",
   "id": "5100dfb7",
   "metadata": {},
   "source": [
    "<h1>217. Contains Duplicate</h1>\n",
    "\n",
    "<h3>Problem</h3>\n",
    "\n",
    "<i>Given an integer array nums, return true if any value appears at least twice in the array, and return false if every element is distinct.</i>\n",
    "\n",
    "<h3>Examples</h3>\n",
    "\n",
    "<b>Example 1:</b><br>\n",
    "<b>Input:</b> nums = [1,2,3,1]<br>\n",
    "<b>Output:</b> true<br>\n",
    "\n",
    "<b>Example 2:</b><br>\n",
    "<b>Input:</b> nums = [1,2,3,4]<br>\n",
    "<b>Output:</b> false<br>\n",
    "\n",
    "<b>Example 3:</b><br>\n",
    "<b>Input:</b> nums = [1,1,1,3,3,4,3,2,4,2]<br>\n",
    "<b>Output:</b> true<br>\n",
    "\n",
    "<h3>Constraints</h3>\n",
    "\n",
    "> 1 <= nums.length <= 105<br>\n",
    "> -109 <= nums[i] <= 109<br>"
   ]
  },
  {
   "cell_type": "markdown",
   "id": "3412360d",
   "metadata": {},
   "source": [
    "<h2>Thought Process</h2>\n",
    "\n",
    "<h3>Solution 1</h3>\n",
    "\n",
    "The first solution that comes to mind is to brute force. We compare every number to all other numbers in the array nums. For example: if 'nums' = [1,2,3,1], we compare 1 to 2,3,1. Then, we compare 2 to 1,3,1, and so on.<br>\n",
    "Time: <b>O(n^2)</b><br>\n",
    "Space:<b>O(1)</b>\n",
    "\n",
    "<h3>Solution 2</h3>\n",
    "\n",
    "While the first solution works, we can optimize the time by sorting the array and iterating through it once. This way, a number only has to be compared to the number on the right in the array instead of comparing all numbers to all other numbers.<br>\n",
    "Time: <b>O(nlogn)</b><br>\n",
    "Space:<b>O(1)</b>\n",
    "\n",
    "<h3>Solution 3</h3>\n",
    "\n",
    "By using more memory, we can get an even quicker solution. We do this with a HashSet. We iterate through the array. If we find a new number, we add it to the HashSet. We return 'True' if the current iteration is already in the HashSet. If all numbers in 'nums' are unique, we return 'False'.<br>\n",
    "Time: <b>O(n)</b><br>\n",
    "Space:<b>O(n)</b>\n",
    "\n",
    "<h2>Pseudocode</h2>"
   ]
  },
  {
   "cell_type": "code",
   "execution_count": null,
   "id": "bb9147c5",
   "metadata": {},
   "outputs": [],
   "source": [
    "# create hashset to store unique iterations\n",
    "\n",
    "# loop through nums array\n",
    "    # if iteration is in hashset\n",
    "        # return True\n",
    "        # else add number to hashset\n",
    "    # return False"
   ]
  },
  {
   "cell_type": "markdown",
   "id": "56e511d5",
   "metadata": {},
   "source": [
    "<h2>Code</h2>"
   ]
  },
  {
   "cell_type": "code",
   "execution_count": 1,
   "id": "f4273f31",
   "metadata": {},
   "outputs": [],
   "source": [
    "# given class and def by LeetCode\n",
    "class Solution(object):\n",
    "    def getConcatenation(self, nums):\n",
    "        \"\"\"\n",
    "        :type nums: List[int]\n",
    "        :rtype: List[int]\n",
    "        \"\"\"\n",
    "        # create an empty set to store unique iterations\n",
    "        hashset = set()\n",
    "\n",
    "        # loop through given integer array\n",
    "        for n in nums:\n",
    "            # if current iteration is in hashset return 'True'\n",
    "            if n in hashset:\n",
    "                return True\n",
    "            # else add current iteration to hashset\n",
    "            hashset.add(n)\n",
    "        # return 'false' if no iteration of n is found in hashset\n",
    "        return False"
   ]
  },
  {
   "cell_type": "markdown",
   "id": "d22ae345",
   "metadata": {},
   "source": [
    "<h3>Submission Details</h3>\n",
    "\n",
    "Date: 30-05-2023<br>\n",
    "Profile link: <https://leetcode.com/danielveld/><br>\n",
    "Submission Link: <https://leetcode.com/submissions/detail/960438058/><br>\n",
    "\n",
    "Difficulty: <b>Easy</b><br>\n",
    "Time: <b>O(n)</b><br>\n",
    "Space: <b>O(n)</b>\n",
    "\n",
    "Runtime: <b>481 ms</b><br>\n",
    "Memory Usage: <b>29.3 MB</b>"
   ]
  }
 ],
 "metadata": {
  "kernelspec": {
   "display_name": "Python 3 (ipykernel)",
   "language": "python",
   "name": "python3"
  },
  "language_info": {
   "codemirror_mode": {
    "name": "ipython",
    "version": 3
   },
   "file_extension": ".py",
   "mimetype": "text/x-python",
   "name": "python",
   "nbconvert_exporter": "python",
   "pygments_lexer": "ipython3",
   "version": "3.9.12"
  }
 },
 "nbformat": 4,
 "nbformat_minor": 5
}
