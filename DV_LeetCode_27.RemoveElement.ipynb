{
 "cells": [
  {
   "cell_type": "markdown",
   "id": "5100dfb7",
   "metadata": {},
   "source": [
    "<h1>27. Remove Element</h1>\n",
    "\n",
    "<h3>Problem</h3>\n",
    "\n",
    "<i>Given an integer array nums and an integer val, remove all occurrences of val in nums in-place. The order of the elements may be changed. Then return the number of elements in nums which are not equal to val.\n",
    "\n",
    "Consider the number of elements in nums which are not equal to val be k, to get accepted, you need to do the following things:\n",
    "\n",
    "Change the array nums such that the first k elements of nums contain the elements which are not equal to val. The remaining elements of nums are not important as well as the size of nums.\n",
    "Return k.</i>\n",
    "\n",
    "<h3>Custom Judge</h3>\n",
    "\n",
    "The judge will test your solution with the following code:"
   ]
  },
  {
   "cell_type": "code",
   "execution_count": null,
   "id": "eb6deac3",
   "metadata": {},
   "outputs": [],
   "source": [
    "int[] nums = [...]; // Input array\n",
    "int val = ...; // Value to remove\n",
    "int[] expectedNums = [...]; // The expected answer with correct length.\n",
    "                            // It is sorted with no values equaling val.\n",
    "\n",
    "int k = removeElement(nums, val); // Calls your implementation\n",
    "\n",
    "assert k == expectedNums.length;\n",
    "sort(nums, 0, k); // Sort the first k elements of nums\n",
    "for (int i = 0; i < actualLength; i++) {\n",
    "    assert nums[i] == expectedNums[i];\n",
    "}"
   ]
  },
  {
   "cell_type": "markdown",
   "id": "1501ddea",
   "metadata": {},
   "source": [
    "If all assertions pass, then your solution will be accepted.\n",
    "\n",
    "<h3>Examples</h3>\n",
    "\n",
    "<b>Example 1:</b><br>\n",
    "<b>Input:</b> nums = [3,2,2,3], val = 3<br>\n",
    "<b>Output:</b> 2, nums = [2,2,_,_]<br>\n",
    "<b>Explanation:</b> Your function should return k = 2, with the first two elements of nums being 2.\n",
    "It does not matter what you leave beyond the returned k (hence they are underscores).<br>\n",
    "\n",
    "<b>Example 2:</b><br>\n",
    "<b>Input:</b> nums = [0,1,2,2,3,0,4,2], val = 2<br>\n",
    "<b>Output:</b> 5, nums = [0,1,4,0,3,_,_,_]<br>\n",
    "<b>Explanation:</b> Your function should return k = 5, with the first five elements of nums containing 0, 0, 1, 3, and 4.<br>\n",
    "<i>Note that the five elements can be returned in any order. It does not matter what you leave beyond the returned k (hence they are underscores).</i><br>\n",
    "\n",
    "<h3>Constraints</h3>\n",
    "\n",
    "> 0 <= nums.length <= 100<br>\n",
    "> 0 <= nums[i] <= 50<br>\n",
    "> 0 <= val <= 100"
   ]
  },
  {
   "cell_type": "markdown",
   "id": "3412360d",
   "metadata": {},
   "source": [
    "<h2>Thought Process</h2>\n",
    "\n",
    "<h3>Solution</h3>\n",
    "\n",
    "While reading the problem, three key points trigger using an alternative method rather than removing the 'val' integer from 'nums'. First, the order of elements can be changed. Next, the return is the number of elements not equal to 'val. Last, the remaining elements of k are unimportant. This makes it more efficient to sort all numbers so that the not equal elements come first in 'nums'.\n",
    "\n",
    "We tackle this partitioning by using a left and right indicator. The left indicator starts at zero and will tell us where to put the following element that is not equal to 'val'. The right indicator will iterate through the array to find elements that are not equal to 'val' and set them to the position of the left indicator and increment it by one. Finally, the left indicator will stop at the last element that is not equal to 'val' so that we can return the solution.<br>\n",
    "Time: <b>O(n2)</b><br>\n",
    "Space:<b>O(1)</b>\n",
    "\n",
    "<h2>Pseudocode</h2>"
   ]
  },
  {
   "cell_type": "code",
   "execution_count": null,
   "id": "bb9147c5",
   "metadata": {},
   "outputs": [],
   "source": [
    "# create left indicator k and set to 0\n",
    "\n",
    "# loop through nums array with right indicator\n",
    "    # compare right to 'val'\n",
    "        # set left to position right\n",
    "        # add 1 to left\n",
    "    # return k"
   ]
  },
  {
   "cell_type": "markdown",
   "id": "56e511d5",
   "metadata": {},
   "source": [
    "<h2>Code</h2>"
   ]
  },
  {
   "cell_type": "code",
   "execution_count": 1,
   "id": "f4273f31",
   "metadata": {},
   "outputs": [],
   "source": [
    "# given class and def by LeetCode\n",
    "class Solution(object):\n",
    "    def removeElement(self, nums, val):\n",
    "        \"\"\"\n",
    "        :type nums: List[int]\n",
    "        :type val: int\n",
    "        :rtype: int\n",
    "        \"\"\"\n",
    "        # create left indicator k and set to 1\n",
    "        k = 0\n",
    "        \n",
    "        # loop through length of nums array with right indicator\n",
    "        for r in range(len(nums)):\n",
    "            # if right is not equal to 'val'\n",
    "            if nums[r] != val:\n",
    "                # set left to position of right\n",
    "                nums[k] = nums [r]\n",
    "                # add 1 to left\n",
    "                k += 1\n",
    "        # return the number of elements that are not equal to val\n",
    "        return k"
   ]
  },
  {
   "cell_type": "markdown",
   "id": "d22ae345",
   "metadata": {},
   "source": [
    "<h3>Submission Details</h3>\n",
    "\n",
    "Date: 31-05-2023<br>\n",
    "Profile link: <https://leetcode.com/danielveld/><br>\n",
    "Submission Link: <https://leetcode.com/submissions/detail/961234872/><br>\n",
    "\n",
    "Difficulty: <b>Easy</b><br>\n",
    "Time: <b>O(n)</b><br>\n",
    "Space: <b>O(1)</b>\n",
    "\n",
    "Runtime: <b>15 ms</b><br>\n",
    "Memory Usage: <b>13.3 MB</b>"
   ]
  },
  {
   "cell_type": "code",
   "execution_count": null,
   "id": "8c0335b5",
   "metadata": {},
   "outputs": [],
   "source": []
  }
 ],
 "metadata": {
  "kernelspec": {
   "display_name": "Python 3 (ipykernel)",
   "language": "python",
   "name": "python3"
  },
  "language_info": {
   "codemirror_mode": {
    "name": "ipython",
    "version": 3
   },
   "file_extension": ".py",
   "mimetype": "text/x-python",
   "name": "python",
   "nbconvert_exporter": "python",
   "pygments_lexer": "ipython3",
   "version": "3.9.12"
  }
 },
 "nbformat": 4,
 "nbformat_minor": 5
}
